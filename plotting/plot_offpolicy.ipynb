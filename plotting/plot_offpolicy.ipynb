{
 "cells": [
  {
   "cell_type": "code",
   "execution_count": 1,
   "metadata": {},
   "outputs": [],
   "source": [
    "import matplotlib.pyplot as plt\n",
    "import matplotlib.ticker as plticker\n",
    "import numpy as np\n",
    "import seaborn as sns\n",
    "import pandas as pd"
   ]
  },
  {
   "cell_type": "code",
   "execution_count": 2,
   "metadata": {
    "scrolled": false
   },
   "outputs": [],
   "source": [
    "def plot_returns(env_name, alphas, clips, std_scale=0.1):\n",
    "    with open(f\"{env_name}_offpolicy.npy\", 'rb') as f:\n",
    "        returns = np.load(f)\n",
    "    with open(f\"{env_name}_offpolicy_exps.npy\", 'rb') as f:\n",
    "        exps = np.load(f)\n",
    "    assert len(returns.shape) == 4  # (n_seeds, n_ent, n_clip, n_exp)\n",
    "    assert returns.shape[1:3] == (len(alphas), len(clips))\n",
    "    print(returns.shape)\n",
    "    \n",
    "    for j in range(returns.shape[1]):\n",
    "\n",
    "        data_j = pd.concat([pd.DataFrame(returns[:, j, k, :], index=[f\"clip={clips[k] if clips[k]<1000 else None}\"]*returns.shape[0], columns=exps)\n",
    "                            for k in range(returns.shape[2])], axis=0)\n",
    "\n",
    "        plt.figure(figsize=(10, 7))\n",
    "        ax = sns.lineplot(data_j.T, errorbar=(\"sd\", std_scale))\n",
    "        plt.xlabel(\"Experience\")\n",
    "        plt.ylabel(\"Return\")\n",
    "        ax.yaxis.set_major_locator(plticker.MultipleLocator(base=25.0))\n",
    "        plt.title(f\"Off policy alpha={alphas[j]}\")\n",
    "        plt.show()\n",
    "    \n",
    "    return returns"
   ]
  },
  {
   "attachments": {},
   "cell_type": "markdown",
   "metadata": {},
   "source": [
    "## 1. Acrobot"
   ]
  },
  {
   "cell_type": "code",
   "execution_count": 3,
   "metadata": {
    "scrolled": false
   },
   "outputs": [],
   "source": [
    "# ents = [0.0, 0.01, 0.1, 0.5]\n",
    "# clips = [0.02, 0.08, 0.2, 0.5, 0.8, 1e6]\n",
    "\n",
    "# returns = plot_returns(\"Acrobot-v1\", ents, clips)"
   ]
  },
  {
   "cell_type": "code",
   "execution_count": null,
   "metadata": {},
   "outputs": [],
   "source": []
  },
  {
   "attachments": {},
   "cell_type": "markdown",
   "metadata": {},
   "source": [
    "## 2. Asterix"
   ]
  },
  {
   "cell_type": "code",
   "execution_count": 4,
   "metadata": {
    "scrolled": false
   },
   "outputs": [],
   "source": [
    "# ents = [0.0]\n",
    "# clips = [0.02, 0.08, 0.2, 0.5, 0.8, 1e6]\n",
    "\n",
    "# returns = plot_returns(\"Asterix-MinAtar\", ents, clips)"
   ]
  },
  {
   "cell_type": "code",
   "execution_count": null,
   "metadata": {},
   "outputs": [],
   "source": []
  },
  {
   "attachments": {},
   "cell_type": "markdown",
   "metadata": {},
   "source": [
    "## 3. Breakout"
   ]
  },
  {
   "cell_type": "code",
   "execution_count": 5,
   "metadata": {},
   "outputs": [],
   "source": [
    "# ents = [0.0]\n",
    "# clips = [0.02, 0.08, 0.2, 0.5, 0.8, 1e6]\n",
    "\n",
    "# returns = plot_returns(\"Breakout-MinAtar\", ents, clips)"
   ]
  },
  {
   "cell_type": "code",
   "execution_count": 6,
   "metadata": {},
   "outputs": [],
   "source": [
    "# ents = [0.01]\n",
    "\n",
    "# returns = plot_returns(\"Breakout-MinAtar\", ents, clips)"
   ]
  },
  {
   "cell_type": "code",
   "execution_count": null,
   "metadata": {},
   "outputs": [],
   "source": []
  },
  {
   "attachments": {},
   "cell_type": "markdown",
   "metadata": {},
   "source": [
    "## 4. CartPole"
   ]
  },
  {
   "cell_type": "code",
   "execution_count": 10,
   "metadata": {},
   "outputs": [],
   "source": [
    "alphas = [0.4, 0.5, 0.7, 1.0]\n",
    "clips = [0.008, 0.02, 0.08, 0.2, 0.5, 1e6]\n",
    "\n",
    "returns = plot_returns(\"CartPole-v1\", alphas, clips)"
   ]
  },
  {
   "cell_type": "code",
   "execution_count": 6,
   "metadata": {},
   "outputs": [
    {
     "data": {
      "text/plain": [
       "array([ 21.703125 , 157.765625 , 167.703125 , 207.703125 , 195.6015625,\n",
       "       318.5859375, 495.7890625, 470.625    , 487.4453125, 489.4296875,\n",
       "       497.8828125, 496.46875  , 499.296875 , 496.765625 , 496.84375  ,\n",
       "       497.8203125])"
      ]
     },
     "execution_count": 6,
     "metadata": {},
     "output_type": "execute_result"
    }
   ],
   "source": [
    "np.mean(returns[:, 1, 2, :], axis=0)"
   ]
  },
  {
   "attachments": {},
   "cell_type": "markdown",
   "metadata": {},
   "source": [
    "## 5. Freeway"
   ]
  },
  {
   "cell_type": "code",
   "execution_count": 8,
   "metadata": {},
   "outputs": [],
   "source": [
    "# ents = [0.0]\n",
    "# clips = [0.02, 0.08, 0.2, 0.5, 0.8, 1e6]\n",
    "\n",
    "# returns = plot_returns(\"Freeway-MinAtar\", ents, clips)"
   ]
  },
  {
   "cell_type": "code",
   "execution_count": null,
   "metadata": {},
   "outputs": [],
   "source": []
  }
 ],
 "metadata": {
  "kernelspec": {
   "display_name": "Python 3 (ipykernel)",
   "language": "python",
   "name": "python3"
  },
  "language_info": {
   "codemirror_mode": {
    "name": "ipython",
    "version": 3
   },
   "file_extension": ".py",
   "mimetype": "text/x-python",
   "name": "python",
   "nbconvert_exporter": "python",
   "pygments_lexer": "ipython3",
   "version": "3.10.6"
  }
 },
 "nbformat": 4,
 "nbformat_minor": 2
}
