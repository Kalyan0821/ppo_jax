{
 "cells": [
  {
   "cell_type": "code",
   "execution_count": 1,
   "metadata": {},
   "outputs": [
    {
     "data": {
      "text/html": [
       "<style>.container { width:80% !important; }</style>"
      ],
      "text/plain": [
       "<IPython.core.display.HTML object>"
      ]
     },
     "metadata": {},
     "output_type": "display_data"
    }
   ],
   "source": [
    "import matplotlib.pyplot as plt\n",
    "import matplotlib.ticker as plticker\n",
    "import numpy as np\n",
    "import seaborn as sns\n",
    "import pandas as pd\n",
    "from IPython.display import display, HTML\n",
    "display(HTML(\"<style>.container { width:80% !important; }</style>\"))"
   ]
  },
  {
   "cell_type": "code",
   "execution_count": 2,
   "metadata": {},
   "outputs": [],
   "source": [
    "ents = [0.0, 0.01, 0.05, 0.1, 0.4, 0.8]\n",
    "clips = [0.005, 0.02, 0.08, 0.2, 0.5, 0.8, 1e6]"
   ]
  },
  {
   "cell_type": "code",
   "execution_count": 3,
   "metadata": {
    "scrolled": false
   },
   "outputs": [],
   "source": [
    "def plot_sparsity(env_name, ents, clips, std_scale=0.1, y_maxr=None, y_maxp=None, tick=1, k=500):\n",
    "    with open(f\"./shared/{env_name}_Wr.npy\", 'rb') as f:\n",
    "        Wr = np.load(f)\n",
    "    with open(f\"./shared/{env_name}_Wp.npy\", 'rb') as f:\n",
    "        Wp = np.load(f)\n",
    "        \n",
    "    assert len(Wr.shape) == len(Wp.shape) == 5  # (n_seeds, n_ent, n_clip, d_out, d_in)\n",
    "    assert Wr.shape[1:3] == Wp.shape[1:3] == (len(ents), len(clips))\n",
    "    print(\"Wr shape:\", Wr.shape)\n",
    "    print(\"Wp shape:\", Wp.shape)\n",
    "\n",
    "    # Abs\n",
    "    Wr = np.abs(Wr)\n",
    "    Wp = np.abs(Wp)\n",
    "    \n",
    "    Wr = np.reshape(Wr, (*Wr.shape[:-2], -1))\n",
    "    Wp = np.reshape(Wp, (*Wp.shape[:-2], -1))\n",
    "    assert Wr.shape[1:3] == Wp.shape[1:3] == (len(ents), len(clips))\n",
    "\n",
    "    Wr = np.sort(Wr, axis=-1)[..., ::1]\n",
    "    Wp = np.sort(Wp, axis=-1)[..., ::1]\n",
    "\n",
    "    print(\"Max Wr:\", np.max(np.mean(Wr, axis=0)))\n",
    "    print(\"Max Wp:\", np.max(np.mean(Wp, axis=0)))\n",
    "            \n",
    "    # Normalize\n",
    "    Wr /= np.max(Wr, axis=-1, keepdims=True)\n",
    "    Wp /= np.max(Wp, axis=-1, keepdims=True)\n",
    "\n",
    "    \n",
    "    Wr = Wr[..., :k]\n",
    "    wp = Wp[..., :k]\n",
    "    print(\"\\nAbs values of representation weight matrix\")\n",
    "    plt.figure(figsize=(24, 15))\n",
    "    indices = range(Wr.shape[-1])\n",
    "    for j in range(Wr.shape[1]):\n",
    "\n",
    "        data_j = pd.concat([pd.DataFrame(Wr[:, j, k, :], index=[f\"eps={clips[k] if clips[k]<1000 else None}\"]*Wr.shape[0], columns=indices)\n",
    "                            for k in range(Wr.shape[2])], axis=0)\n",
    "        assert Wr.shape[1] <= 6\n",
    "        plt.subplot(2, 3, j+1)\n",
    "        ax = sns.lineplot(data_j.T, errorbar=(\"sd\", std_scale))\n",
    "        plt.xlabel(\"Index\")\n",
    "        plt.ylabel(\"Weight value\")\n",
    "        plt.ylim(top=y_maxr)\n",
    "#         ax.xaxis.set_major_locator(plticker.MultipleLocator(base=tick))        \n",
    "        plt.title(f\"Ent. bonus={ents[j]}\")\n",
    "    plt.show()\n",
    "\n",
    "#     print(\"\\n\\nAbs values of logits weight matrix\")\n",
    "#     plt.figure(figsize=(24, 15))    \n",
    "#     indices = range(Wp.shape[-1])\n",
    "#     for j in range(Wp.shape[1]):\n",
    "\n",
    "#         data_j = pd.concat([pd.DataFrame(Wp[:, j, k, :], index=[f\"eps={clips[k] if clips[k]<1000 else None}\"]*Wp.shape[0], columns=indices)\n",
    "#                             for k in range(Wp.shape[2])], axis=0)\n",
    "#         assert Wp.shape[1] <= 6\n",
    "#         plt.subplot(2, 3, j+1)\n",
    "#         ax = sns.lineplot(data_j.T, errorbar=(\"sd\", std_scale))\n",
    "#         plt.xlabel(\"Index\")\n",
    "#         plt.ylabel(\"Weight value\")\n",
    "#         plt.ylim(top=y_maxp)\n",
    "#         ax.xaxis.set_major_locator(plticker.MultipleLocator(base=tick))        \n",
    "#         plt.title(f\"Ent. bonus={ents[j]}\")\n",
    "#     plt.show()\n",
    "        \n",
    "    return Wr, Wp"
   ]
  },
  {
   "cell_type": "markdown",
   "metadata": {},
   "source": [
    "## 1. Acrobot"
   ]
  },
  {
   "cell_type": "code",
   "execution_count": null,
   "metadata": {
    "scrolled": false
   },
   "outputs": [
    {
     "name": "stdout",
     "output_type": "stream",
     "text": [
      "Wr shape: (8, 6, 7, 64, 64)\n",
      "Wp shape: (8, 6, 7, 64, 3)\n",
      "Max Wr: 2.3311603\n",
      "Max Wp: 0.7949325\n",
      "\n",
      "Abs values of representation weight matrix\n"
     ]
    }
   ],
   "source": [
    "Wr, Wp = plot_sparsity(\"Acrobot-v1\", ents, clips)"
   ]
  },
  {
   "cell_type": "code",
   "execution_count": null,
   "metadata": {},
   "outputs": [],
   "source": []
  },
  {
   "cell_type": "markdown",
   "metadata": {},
   "source": [
    "## 2. Asterix"
   ]
  },
  {
   "cell_type": "code",
   "execution_count": null,
   "metadata": {},
   "outputs": [],
   "source": [
    "Wr, Wp = plot_sparsity(\"Asterix-MinAtar\", ents, clips)"
   ]
  },
  {
   "cell_type": "markdown",
   "metadata": {},
   "source": [
    "## 3. Breakout"
   ]
  },
  {
   "cell_type": "code",
   "execution_count": null,
   "metadata": {},
   "outputs": [],
   "source": [
    "Wr, Wp = plot_sparsity(\"Breakout-MinAtar\", ents, clips)"
   ]
  },
  {
   "cell_type": "markdown",
   "metadata": {},
   "source": [
    "## 4. CartPole"
   ]
  },
  {
   "cell_type": "code",
   "execution_count": null,
   "metadata": {},
   "outputs": [],
   "source": [
    "Wr, Wp = plot_sparsity(\"CartPole-v1\", ents, clips)"
   ]
  },
  {
   "cell_type": "markdown",
   "metadata": {},
   "source": [
    "## 5. Freeway"
   ]
  },
  {
   "cell_type": "code",
   "execution_count": null,
   "metadata": {},
   "outputs": [],
   "source": [
    "Wr, Wp = plot_sparsity(\"Freeway-MinAtar\", ents, clips)"
   ]
  },
  {
   "cell_type": "markdown",
   "metadata": {},
   "source": [
    "## 6. MountainCar"
   ]
  },
  {
   "cell_type": "code",
   "execution_count": null,
   "metadata": {},
   "outputs": [],
   "source": [
    "Wr, Wp = plot_sparsity(\"MountainCar-v0\", ents, clips)"
   ]
  },
  {
   "cell_type": "markdown",
   "metadata": {},
   "source": [
    "## 7. SpaceInvaders"
   ]
  },
  {
   "cell_type": "code",
   "execution_count": null,
   "metadata": {},
   "outputs": [],
   "source": [
    "Wr, Wp = plot_sparsity(\"SpaceInvaders-MinAtar\", ents, clips)"
   ]
  },
  {
   "cell_type": "code",
   "execution_count": null,
   "metadata": {},
   "outputs": [],
   "source": []
  }
 ],
 "metadata": {
  "kernelspec": {
   "display_name": "Python 3 (ipykernel)",
   "language": "python",
   "name": "python3"
  },
  "language_info": {
   "codemirror_mode": {
    "name": "ipython",
    "version": 3
   },
   "file_extension": ".py",
   "mimetype": "text/x-python",
   "name": "python",
   "nbconvert_exporter": "python",
   "pygments_lexer": "ipython3",
   "version": "3.10.6"
  }
 },
 "nbformat": 4,
 "nbformat_minor": 2
}
