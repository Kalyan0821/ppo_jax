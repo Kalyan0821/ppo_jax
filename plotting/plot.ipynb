{
 "cells": [
  {
   "cell_type": "code",
   "execution_count": 1,
   "metadata": {},
   "outputs": [
    {
     "data": {
      "text/html": [
       "<style>.container { width:95% !important; }</style>"
      ],
      "text/plain": [
       "<IPython.core.display.HTML object>"
      ]
     },
     "metadata": {},
     "output_type": "display_data"
    }
   ],
   "source": [
    "import matplotlib.pyplot as plt\n",
    "import matplotlib.ticker as plticker\n",
    "import numpy as np\n",
    "import seaborn as sns\n",
    "import pandas as pd\n",
    "from IPython.display import display, HTML\n",
    "display(HTML(\"<style>.container { width:95% !important; }</style>\"))"
   ]
  },
  {
   "cell_type": "code",
   "execution_count": 2,
   "metadata": {},
   "outputs": [],
   "source": [
    "ents = [0.0, 0.01, 0.05, 0.1, 0.4, 0.8]\n",
    "clips = [0.005, 0.02, 0.08, 0.2, 0.5, 0.8, 1e6]"
   ]
  },
  {
   "cell_type": "code",
   "execution_count": 3,
   "metadata": {
    "scrolled": false
   },
   "outputs": [],
   "source": [
    "def plot_returns(env_name, ents, clips, std_scale=0.1, y_max=None, tick=10):\n",
    "    with open(f\"{env_name}.npy\", 'rb') as f:\n",
    "        returns = np.load(f)\n",
    "    with open(f\"{env_name}_exps.npy\", 'rb') as f:\n",
    "        exps = np.load(f)\n",
    "    assert len(returns.shape) == 4  # (n_seeds, n_ent, n_clip, n_exp)\n",
    "    assert returns.shape[1:3] == (len(ents), len(clips))\n",
    "    print(\"Shape:\", returns.shape)\n",
    "    print(\"Max:\", np.max(np.mean(returns, axis=0)))\n",
    "\n",
    "    plt.figure(figsize=(25, 17))\n",
    "\n",
    "    for j in range(returns.shape[1]):\n",
    "\n",
    "        data_j = pd.concat([pd.DataFrame(returns[:, j, k, :], index=[f\"clip={clips[k] if clips[k]<1000 else None}\"]*returns.shape[0], columns=exps)\n",
    "                            for k in range(returns.shape[2])], axis=0)\n",
    "\n",
    "        # plt.figure(figsize=(10, 7))\n",
    "        assert returns.shape[1] <= 6\n",
    "        plt.subplot(2, 3, j+1)\n",
    "        ax = sns.lineplot(data_j.T, errorbar=(\"sd\", std_scale))\n",
    "        plt.xlabel(\"Experience\")\n",
    "        plt.ylabel(\"Return\")\n",
    "        plt.ylim(top=y_max)\n",
    "        ax.yaxis.set_major_locator(plticker.MultipleLocator(base=tick))\n",
    "        plt.title(f\"Ent. bonus={ents[j]}\")\n",
    "        # plt.show()\n",
    "    \n",
    "    \n",
    "    return returns"
   ]
  },
  {
   "cell_type": "markdown",
   "metadata": {},
   "source": [
    "## 1. Acrobot"
   ]
  },
  {
   "cell_type": "code",
   "execution_count": 4,
   "metadata": {
    "scrolled": false
   },
   "outputs": [
    {
     "ename": "AssertionError",
     "evalue": "",
     "output_type": "error",
     "traceback": [
      "\u001b[0;31m---------------------------------------------------------------------------\u001b[0m",
      "\u001b[0;31mAssertionError\u001b[0m                            Traceback (most recent call last)",
      "Cell \u001b[0;32mIn[4], line 1\u001b[0m\n\u001b[0;32m----> 1\u001b[0m returns \u001b[38;5;241m=\u001b[39m \u001b[43mplot_returns\u001b[49m\u001b[43m(\u001b[49m\u001b[38;5;124;43m\"\u001b[39;49m\u001b[38;5;124;43mAcrobot-v1\u001b[39;49m\u001b[38;5;124;43m\"\u001b[39;49m\u001b[43m,\u001b[49m\u001b[43m \u001b[49m\u001b[43ments\u001b[49m\u001b[43m,\u001b[49m\u001b[43m \u001b[49m\u001b[43mclips\u001b[49m\u001b[43m,\u001b[49m\u001b[43m \u001b[49m\u001b[43my_max\u001b[49m\u001b[38;5;241;43m=\u001b[39;49m\u001b[38;5;241;43m-\u001b[39;49m\u001b[38;5;241;43m70\u001b[39;49m\u001b[43m)\u001b[49m\n",
      "Cell \u001b[0;32mIn[3], line 7\u001b[0m, in \u001b[0;36mplot_returns\u001b[0;34m(env_name, ents, clips, std_scale, y_max, tick)\u001b[0m\n\u001b[1;32m      5\u001b[0m     exps \u001b[38;5;241m=\u001b[39m np\u001b[38;5;241m.\u001b[39mload(f)\n\u001b[1;32m      6\u001b[0m \u001b[38;5;28;01massert\u001b[39;00m \u001b[38;5;28mlen\u001b[39m(returns\u001b[38;5;241m.\u001b[39mshape) \u001b[38;5;241m==\u001b[39m \u001b[38;5;241m4\u001b[39m  \u001b[38;5;66;03m# (n_seeds, n_ent, n_clip, n_exp)\u001b[39;00m\n\u001b[0;32m----> 7\u001b[0m \u001b[38;5;28;01massert\u001b[39;00m returns\u001b[38;5;241m.\u001b[39mshape[\u001b[38;5;241m1\u001b[39m:\u001b[38;5;241m3\u001b[39m] \u001b[38;5;241m==\u001b[39m (\u001b[38;5;28mlen\u001b[39m(ents), \u001b[38;5;28mlen\u001b[39m(clips))\n\u001b[1;32m      8\u001b[0m \u001b[38;5;28mprint\u001b[39m(\u001b[38;5;124m\"\u001b[39m\u001b[38;5;124mShape:\u001b[39m\u001b[38;5;124m\"\u001b[39m, returns\u001b[38;5;241m.\u001b[39mshape)\n\u001b[1;32m      9\u001b[0m \u001b[38;5;28mprint\u001b[39m(\u001b[38;5;124m\"\u001b[39m\u001b[38;5;124mMax:\u001b[39m\u001b[38;5;124m\"\u001b[39m, np\u001b[38;5;241m.\u001b[39mmax(np\u001b[38;5;241m.\u001b[39mmean(returns, axis\u001b[38;5;241m=\u001b[39m\u001b[38;5;241m0\u001b[39m)))\n",
      "\u001b[0;31mAssertionError\u001b[0m: "
     ]
    }
   ],
   "source": [
    "returns = plot_returns(\"Acrobot-v1\", ents, clips, y_max=-70)"
   ]
  },
  {
   "cell_type": "code",
   "execution_count": null,
   "metadata": {},
   "outputs": [],
   "source": []
  },
  {
   "cell_type": "markdown",
   "metadata": {},
   "source": [
    "## 2. Asterix"
   ]
  },
  {
   "cell_type": "code",
   "execution_count": null,
   "metadata": {
    "scrolled": false
   },
   "outputs": [],
   "source": [
    "returns = plot_returns(\"Asterix-MinAtar\", ents, clips, y_max=31)"
   ]
  },
  {
   "cell_type": "markdown",
   "metadata": {},
   "source": [
    "## 3. Breakout"
   ]
  },
  {
   "cell_type": "code",
   "execution_count": null,
   "metadata": {},
   "outputs": [],
   "source": [
    "returns = plot_returns(\"Breakout-MinAtar\", ents, clips, y_max=67)"
   ]
  },
  {
   "cell_type": "markdown",
   "metadata": {},
   "source": [
    "## 4. CartPole"
   ]
  },
  {
   "cell_type": "code",
   "execution_count": null,
   "metadata": {},
   "outputs": [],
   "source": [
    "returns = plot_returns(\"CartPole-v1\", ents, clips, y_max=510)"
   ]
  },
  {
   "cell_type": "markdown",
   "metadata": {},
   "source": [
    "## 5. Freeway"
   ]
  },
  {
   "cell_type": "code",
   "execution_count": null,
   "metadata": {
    "scrolled": false
   },
   "outputs": [],
   "source": [
    "returns = plot_returns(\"Freeway-MinAtar\", ents, clips, y_max=60)"
   ]
  },
  {
   "cell_type": "markdown",
   "metadata": {},
   "source": [
    "## 6. MountainCar"
   ]
  },
  {
   "cell_type": "code",
   "execution_count": null,
   "metadata": {
    "scrolled": false
   },
   "outputs": [],
   "source": [
    "returns = plot_returns(\"MountainCar-v0\", ents, clips, y_max=-102)"
   ]
  },
  {
   "cell_type": "markdown",
   "metadata": {},
   "source": [
    "## 7. SpaceInvaders"
   ]
  },
  {
   "cell_type": "code",
   "execution_count": null,
   "metadata": {
    "scrolled": false
   },
   "outputs": [],
   "source": [
    "returns = plot_returns(\"SpaceInvaders-MinAtar\", ents, clips, y_max=169)"
   ]
  },
  {
   "cell_type": "code",
   "execution_count": null,
   "metadata": {},
   "outputs": [],
   "source": []
  }
 ],
 "metadata": {
  "kernelspec": {
   "display_name": "Python 3 (ipykernel)",
   "language": "python",
   "name": "python3"
  },
  "language_info": {
   "codemirror_mode": {
    "name": "ipython",
    "version": 3
   },
   "file_extension": ".py",
   "mimetype": "text/x-python",
   "name": "python",
   "nbconvert_exporter": "python",
   "pygments_lexer": "ipython3",
   "version": "3.10.6"
  }
 },
 "nbformat": 4,
 "nbformat_minor": 2
}
